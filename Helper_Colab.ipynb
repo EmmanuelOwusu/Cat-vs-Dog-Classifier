{
  "nbformat": 4,
  "nbformat_minor": 0,
  "metadata": {
    "kernelspec": {
      "name": "python3",
      "display_name": "Python 3"
    },
    "language_info": {
      "codemirror_mode": {
        "name": "ipython",
        "version": 3
      },
      "file_extension": ".py",
      "mimetype": "text/x-python",
      "name": "python",
      "nbconvert_exporter": "python",
      "pygments_lexer": "ipython3",
      "version": "3.7.4"
    },
    "colab": {
      "name": "Helper_Colab.ipynb",
      "provenance": [],
      "toc_visible": true,
      "include_colab_link": true
    },
    "accelerator": "GPU"
  },
  "cells": [
    {
      "cell_type": "markdown",
      "metadata": {
        "id": "view-in-github",
        "colab_type": "text"
      },
      "source": [
        "<a href=\"https://colab.research.google.com/github/Kabongosalomon/Cat-vs-Dog-Classifier/blob/master/Helper_Colab.ipynb\" target=\"_parent\"><img src=\"https://colab.research.google.com/assets/colab-badge.svg\" alt=\"Open In Colab\"/></a>"
      ]
    },
    {
      "cell_type": "markdown",
      "metadata": {
        "id": "Ib2RuhjdTgA7",
        "colab_type": "text"
      },
      "source": [
        "## Load My data"
      ]
    },
    {
      "cell_type": "code",
      "metadata": {
        "id": "IjFmEAGZaM1Q",
        "colab_type": "code",
        "outputId": "a37766c6-a863-4ce2-bf3c-26ca0f81caf4",
        "colab": {
          "base_uri": "https://localhost:8080/",
          "height": 116
        }
      },
      "source": [
        "! git clone https://github.com/Kabongosalomon/Cat-vs-Dog-Classifier.git"
      ],
      "execution_count": 1,
      "outputs": [
        {
          "output_type": "stream",
          "text": [
            "Cloning into 'Cat-vs-Dog-Classifier'...\n",
            "remote: Enumerating objects: 56, done.\u001b[K\n",
            "remote: Counting objects: 100% (56/56), done.\u001b[K\n",
            "remote: Compressing objects: 100% (42/42), done.\u001b[K\n",
            "remote: Total 56 (delta 21), reused 41 (delta 12), pack-reused 0\u001b[K\n",
            "Unpacking objects: 100% (56/56), done.\n"
          ],
          "name": "stdout"
        }
      ]
    },
    {
      "cell_type": "code",
      "metadata": {
        "id": "DykkqJtnTfjO",
        "colab_type": "code",
        "outputId": "44491c5e-ea9c-4a4d-beec-401de8412024",
        "colab": {
          "base_uri": "https://localhost:8080/",
          "height": 66
        }
      },
      "source": [
        "# Loaf helper file\n",
        "link = \"https://drive.google.com/file/d/1Cn0B9Zr2irUnZcHqODT9IilGHf9fZ61R/view?usp=sharing\"\n",
        "\n",
        "_, id_t = link.split('d/')\n",
        "\n",
        "id = id_t.split('/')[0]\n",
        "\n",
        "print (\"Loading file ...\")\n",
        "\n",
        "print (id) # Verify that you have everything after '='\n",
        "\n",
        "# Install the PyDrive wrapper & import libraries.\n",
        "# This only needs to be done once per notebook.\n",
        "!pip install -U -q PyDrive\n",
        "from pydrive.auth import GoogleAuth\n",
        "from pydrive.drive import GoogleDrive\n",
        "from google.colab import auth\n",
        "from oauth2client.client import GoogleCredentials\n",
        "\n",
        "# Authenticate and create the PyDrive client.\n",
        "# This only needs to be done once per notebook.\n",
        "auth.authenticate_user()\n",
        "gauth = GoogleAuth()\n",
        "gauth.credentials = GoogleCredentials.get_application_default()\n",
        "drive = GoogleDrive(gauth)\n",
        "\n",
        "\n",
        "file_id = id\n",
        "downloaded = drive.CreateFile({'id':file_id})\n",
        "downloaded.FetchMetadata(fetch_all=True)\n",
        "downloaded.GetContentFile(downloaded.metadata['title'])\n",
        "print (\"Completed\")"
      ],
      "execution_count": 2,
      "outputs": [
        {
          "output_type": "stream",
          "text": [
            "Loading file ...\n",
            "1Cn0B9Zr2irUnZcHqODT9IilGHf9fZ61R\n",
            "Completed\n"
          ],
          "name": "stdout"
        }
      ]
    },
    {
      "cell_type": "code",
      "metadata": {
        "id": "RKAP16FxTosl",
        "colab_type": "code",
        "outputId": "91b362ea-7a83-4999-8f8d-2b0ce46decdb",
        "colab": {
          "base_uri": "https://localhost:8080/",
          "height": 33
        }
      },
      "source": [
        "!ls"
      ],
      "execution_count": 3,
      "outputs": [
        {
          "output_type": "stream",
          "text": [
            "adc.json  Cat_Dog_data.zip  Cat-vs-Dog-Classifier  sample_data\n"
          ],
          "name": "stdout"
        }
      ]
    },
    {
      "cell_type": "markdown",
      "metadata": {
        "id": "bJgyEhYbaHFI",
        "colab_type": "text"
      },
      "source": [
        "## Pre-process"
      ]
    },
    {
      "cell_type": "code",
      "metadata": {
        "id": "z3VH7mUFWl5H",
        "colab_type": "code",
        "outputId": "3c286736-8bd6-47c9-b1c9-20facf3e0a5c",
        "colab": {
          "base_uri": "https://localhost:8080/",
          "height": 50
        }
      },
      "source": [
        "!unzip -q Cat_Dog_data.zip                        # Unzip the downloaded file \n",
        "!mkdir ./Cat-vs-Dog-Classifier/data               # Create a data directory \n",
        "!cp -r Cat_Dog_data/ Cat-vs-Dog-Classifier/data/  # Copy the unziped file in the created repository\n",
        "!rm -r  ./Cat_Dog_data/                           # Remove Both the unziped file\n",
        "!rm -r  ./Cat_Dog_data.zip                        # Remove Both the zip file\n",
        "!rm -r ./__MACOSX\n",
        "!rm adc.json"
      ],
      "execution_count": 4,
      "outputs": [
        {
          "output_type": "stream",
          "text": [
            "rm: cannot remove 'data/Cat_Dog_data/train/.DS_Store': No such file or directory\n",
            "rm: cannot remove 'data/Cat_Dog_data/test/.DS_Store': No such file or directory\n"
          ],
          "name": "stdout"
        }
      ]
    },
    {
      "cell_type": "markdown",
      "metadata": {
        "id": "wKXVTgPMajuC",
        "colab_type": "text"
      },
      "source": [
        "## Runing the main.py"
      ]
    },
    {
      "cell_type": "code",
      "metadata": {
        "id": "CjDkPqctbufP",
        "colab_type": "code",
        "colab": {}
      },
      "source": [
        "import os \n",
        "os.chdir(\"Cat-vs-Dog-Classifier\") # Thanks to https://stackoverflow.com/questions/37644441/python-run-script-in-all-subdirectories/37644536"
      ],
      "execution_count": 0,
      "outputs": []
    },
    {
      "cell_type": "code",
      "metadata": {
        "id": "UZdVbRLexdc0",
        "colab_type": "code",
        "colab": {}
      },
      "source": [
        "# Fixing the issue with the dataset link, that contains the \".DS_Store\"\n",
        "!rm -r data/Cat_Dog_data/train/.DS_Store\n",
        "!rm -r data/Cat_Dog_data/test/.DS_Store"
      ],
      "execution_count": 0,
      "outputs": []
    },
    {
      "cell_type": "code",
      "metadata": {
        "id": "ISYLZQVdcwYS",
        "colab_type": "code",
        "outputId": "e766431b-9a25-42bc-ca09-dda2ae3086e8",
        "colab": {
          "base_uri": "https://localhost:8080/",
          "height": 33
        }
      },
      "source": [
        "!ls -a data/Cat_Dog_data/train"
      ],
      "execution_count": 8,
      "outputs": [
        {
          "output_type": "stream",
          "text": [
            ".  ..  cat  dog\n"
          ],
          "name": "stdout"
        }
      ]
    },
    {
      "cell_type": "code",
      "metadata": {
        "id": "rjKJC78nZ045",
        "colab_type": "code",
        "outputId": "d6c73c50-ee0a-4642-8532-ebb103be5b18",
        "colab": {
          "base_uri": "https://localhost:8080/",
          "height": 600
        }
      },
      "source": [
        "# !CUDA_LAUNCH_BLOCKING=1 python main.py\n",
        "! python main.py"
      ],
      "execution_count": 11,
      "outputs": [
        {
          "output_type": "stream",
          "text": [
            "yupiii we are on GPU :)\n",
            "CNN_Classifier_2(\n",
            "  (conv1): Conv2d(3, 32, kernel_size=(3, 3), stride=(2, 2), padding=(1, 1))\n",
            "  (conv2): Conv2d(32, 64, kernel_size=(3, 3), stride=(2, 2), padding=(1, 1))\n",
            "  (conv3): Conv2d(64, 128, kernel_size=(3, 3), stride=(1, 1), padding=(1, 1))\n",
            "  (conv4): Conv2d(128, 256, kernel_size=(3, 3), stride=(2, 2), padding=(1, 1))\n",
            "  (pool): MaxPool2d(kernel_size=2, stride=2, padding=0, dilation=1, ceil_mode=False)\n",
            "  (fc1): Linear(in_features=1024, out_features=500, bias=True)\n",
            "  (fc2): Linear(in_features=500, out_features=2, bias=True)\n",
            "  (dropout): Dropout(p=0.3, inplace=False)\n",
            ")\n",
            "Training ....\n",
            "Epoch     1 | LossA: 0.6931(+0.0000%) \u001b[0m\t| LossB: 0.6925(+0.0000%) \u001b[0m\t\n",
            "Validation loss decreased (inf --> 0.692475).  Saving model ...\n",
            "Epoch     2 | LossA: \u001b[91m0.6923(-0.1134%) ▼\u001b[0m\t| LossB: \u001b[91m0.6919(-0.0894%) ▼\u001b[0m\t\n",
            "Validation loss decreased (0.692475 --> 0.691856).  Saving model ...\n",
            "Epoch     3 | LossA: \u001b[91m0.6906(-0.2405%) ▼\u001b[0m\t| LossB: \u001b[91m0.6906(-0.1747%) ▼\u001b[0m\t\n",
            "Validation loss decreased (0.691856 --> 0.690648).  Saving model ...\n",
            "Epoch     4 | LossA: \u001b[91m0.6860(-0.6690%) ▼\u001b[0m\t| LossB: \u001b[91m0.6802(-1.5132%) ▼\u001b[0m\t\n",
            "Validation loss decreased (0.690648 --> 0.680197).  Saving model ...\n",
            "Epoch     5 | LossA: \u001b[91m0.6801(-0.8667%) ▼\u001b[0m\t| LossB: \u001b[91m0.6676(-1.8456%) ▼\u001b[0m\t\n",
            "Validation loss decreased (0.680197 --> 0.667644).  Saving model ...\n",
            "Epoch     6 | LossA: \u001b[91m0.6696(-1.5352%) ▼\u001b[0m\t| LossB: \u001b[91m0.6599(-1.1605%) ▼\u001b[0m\t\n",
            "Validation loss decreased (0.667644 --> 0.659896).  Saving model ...\n",
            "Epoch     7 | LossA: \u001b[91m0.6565(-1.9570%) ▼\u001b[0m\t| LossB: \u001b[91m0.6457(-2.1529%) ▼\u001b[0m\t\n",
            "Validation loss decreased (0.659896 --> 0.645689).  Saving model ...\n",
            "Epoch     8 | LossA: \u001b[91m0.6440(-1.8977%) ▼\u001b[0m\t| LossB: \u001b[32m0.6469(+0.1950%) ▲\u001b[0m\t\n",
            "Epoch     9 | LossA: \u001b[91m0.6360(-1.2551%) ▼\u001b[0m\t| LossB: \u001b[91m0.6465(-0.0618%) ▼\u001b[0m\t\n",
            "Epoch    10 | LossA: \u001b[91m0.6260(-1.5660%) ▼\u001b[0m\t| LossB: \u001b[91m0.6285(-2.7949%) ▼\u001b[0m\t\n",
            "Validation loss decreased (0.645689 --> 0.628478).  Saving model ...\n",
            "Testing ....\n",
            "Test Loss: 0.626521\n",
            "\n",
            "\n",
            "Test Accuracy: 64% (11692/18000)\n"
          ],
          "name": "stdout"
        }
      ]
    },
    {
      "cell_type": "code",
      "metadata": {
        "id": "9px2B_ORPUf4",
        "colab_type": "code",
        "outputId": "7957c77c-2dcc-428a-b870-f5da396f4806",
        "colab": {
          "base_uri": "https://localhost:8080/",
          "height": 433
        }
      },
      "source": [
        "8!cd Cat-vs-Dog-Classifier/ \n",
        "!python ./main.py"
      ],
      "execution_count": 0,
      "outputs": [
        {
          "output_type": "stream",
          "text": [
            "/bin/bash: line 0: cd: Cat-vs-Dog-Classifier/: No such file or directory\n",
            "CNN_Classifier_2(\n",
            "  (conv1): Conv2d(3, 32, kernel_size=(3, 3), stride=(2, 2), padding=(1, 1))\n",
            "  (conv2): Conv2d(32, 64, kernel_size=(3, 3), stride=(2, 2), padding=(1, 1))\n",
            "  (conv3): Conv2d(64, 128, kernel_size=(3, 3), stride=(1, 1), padding=(1, 1))\n",
            "  (conv4): Conv2d(128, 256, kernel_size=(3, 3), stride=(2, 2), padding=(1, 1))\n",
            "  (pool): MaxPool2d(kernel_size=2, stride=2, padding=0, dilation=1, ceil_mode=False)\n",
            "  (fc1): Linear(in_features=1024, out_features=500, bias=True)\n",
            "  (fc2): Linear(in_features=500, out_features=2, bias=True)\n",
            "  (dropout): Dropout(p=0.3, inplace=False)\n",
            ")\n",
            "Traceback (most recent call last):\n",
            "  File \"./main.py\", line 81, in <module>\n",
            "    criterion_scratch, use_cuda, '../model/model_cnn_2.pt') # You can rename this file to save different check point\n",
            "  File \"/content/Cat-vs-Dog-Classifier/utilities/train_class.py\", line 87, in train\n",
            "    loss = criterion(output.cpu(), target.cpu())\n",
            "  File \"/usr/local/lib/python3.6/dist-packages/torch/nn/modules/module.py\", line 541, in __call__\n",
            "    result = self.forward(*input, **kwargs)\n",
            "  File \"/usr/local/lib/python3.6/dist-packages/torch/nn/modules/loss.py\", line 916, in forward\n",
            "    ignore_index=self.ignore_index, reduction=self.reduction)\n",
            "  File \"/usr/local/lib/python3.6/dist-packages/torch/nn/functional.py\", line 2009, in cross_entropy\n",
            "    return nll_loss(log_softmax(input, 1), target, weight, None, ignore_index, None, reduction)\n",
            "  File \"/usr/local/lib/python3.6/dist-packages/torch/nn/functional.py\", line 1838, in nll_loss\n",
            "    ret = torch._C._nn.nll_loss(input, target, weight, _Reduction.get_enum(reduction), ignore_index)\n",
            "RuntimeError: Assertion `cur_target >= 0 && cur_target < n_classes' failed.  at /pytorch/aten/src/THNN/generic/ClassNLLCriterion.c:97\n"
          ],
          "name": "stdout"
        }
      ]
    },
    {
      "cell_type": "code",
      "metadata": {
        "id": "2h3zk5BPPUgA",
        "colab_type": "code",
        "colab": {}
      },
      "source": [
        "!mkdir ../a"
      ],
      "execution_count": 0,
      "outputs": []
    },
    {
      "cell_type": "code",
      "metadata": {
        "id": "CM8X7bPRPfHl",
        "colab_type": "code",
        "colab": {}
      },
      "source": [
        ""
      ],
      "execution_count": 0,
      "outputs": []
    },
    {
      "cell_type": "code",
      "metadata": {
        "id": "aV6DwUz7S5EW",
        "colab_type": "code",
        "outputId": "1fd2e86c-12a9-4e01-f7af-f5cfc8df4a55",
        "colab": {
          "base_uri": "https://localhost:8080/",
          "height": 33
        }
      },
      "source": [
        "!ls ../"
      ],
      "execution_count": 0,
      "outputs": [
        {
          "output_type": "stream",
          "text": [
            "a  adc.json  Cat-vs-Dog-Classifier  __MACOSX  sample_data\n"
          ],
          "name": "stdout"
        }
      ]
    },
    {
      "cell_type": "code",
      "metadata": {
        "id": "riwYVYYlS9Ld",
        "colab_type": "code",
        "colab": {}
      },
      "source": [
        ""
      ],
      "execution_count": 0,
      "outputs": []
    }
  ]
}