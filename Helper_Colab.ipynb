{
 "cells": [
  {
   "cell_type": "code",
   "execution_count": 3,
   "metadata": {},
   "outputs": [
    {
     "name": "stdout",
     "output_type": "stream",
     "text": [
      "CNN_Classifier_2(\n",
      "  (conv1): Conv2d(3, 32, kernel_size=(3, 3), stride=(2, 2), padding=(1, 1))\n",
      "  (conv2): Conv2d(32, 64, kernel_size=(3, 3), stride=(2, 2), padding=(1, 1))\n",
      "  (conv3): Conv2d(64, 128, kernel_size=(3, 3), stride=(1, 1), padding=(1, 1))\n",
      "  (conv4): Conv2d(128, 256, kernel_size=(3, 3), stride=(2, 2), padding=(1, 1))\n",
      "  (pool): MaxPool2d(kernel_size=2, stride=2, padding=0, dilation=1, ceil_mode=False)\n",
      "  (fc1): Linear(in_features=1024, out_features=500, bias=True)\n",
      "  (fc2): Linear(in_features=500, out_features=2, bias=True)\n",
      "  (dropout): Dropout(p=0.3, inplace=False)\n",
      ")\n",
      "^C\n",
      "Traceback (most recent call last):\n",
      "  File \"./main.py\", line 81, in <module>\n",
      "    criterion_scratch, use_cuda, './model/model_scratch.pt') # You can rename this file to save different check point\n",
      "  File \"/home/aims/Documents/Cat-vs-Dog-Classifier/utilities/train_class.py\", line 85, in train\n",
      "    output = model(data)\n",
      "  File \"/home/aims/anaconda3/envs/aims/lib/python3.7/site-packages/torch/nn/modules/module.py\", line 541, in __call__\n",
      "    result = self.forward(*input, **kwargs)\n",
      "  File \"/home/aims/Documents/Cat-vs-Dog-Classifier/model.py\", line 60, in forward\n",
      "    x = self.pool(F.relu(self.conv1(x)))\n",
      "  File \"/home/aims/anaconda3/envs/aims/lib/python3.7/site-packages/torch/nn/modules/module.py\", line 541, in __call__\n",
      "    result = self.forward(*input, **kwargs)\n",
      "  File \"/home/aims/anaconda3/envs/aims/lib/python3.7/site-packages/torch/nn/modules/pooling.py\", line 141, in forward\n",
      "    self.return_indices)\n",
      "  File \"/home/aims/anaconda3/envs/aims/lib/python3.7/site-packages/torch/_jit_internal.py\", line 138, in fn\n",
      "    return if_false(*args, **kwargs)\n",
      "  File \"/home/aims/anaconda3/envs/aims/lib/python3.7/site-packages/torch/nn/functional.py\", line 488, in _max_pool2d\n",
      "    input, kernel_size, stride, padding, dilation, ceil_mode)\n",
      "KeyboardInterrupt\n"
     ]
    }
   ],
   "source": [
    "!python ./main.py"
   ]
  },
  {
   "cell_type": "code",
   "execution_count": 2,
   "metadata": {},
   "outputs": [
    {
     "name": "stdout",
     "output_type": "stream",
     "text": [
      "data\t\t    images   model     __pycache__\t utilities\n",
      "dataset.py\t    LICENSE  model.py  README.md\n",
      "Helper_Colab.ipynb  main.py  notebook  requirements.txt\n"
     ]
    }
   ],
   "source": [
    "!ls"
   ]
  }
 ],
 "metadata": {
  "kernelspec": {
   "display_name": "Python 3",
   "language": "python",
   "name": "python3"
  },
  "language_info": {
   "codemirror_mode": {
    "name": "ipython",
    "version": 3
   },
   "file_extension": ".py",
   "mimetype": "text/x-python",
   "name": "python",
   "nbconvert_exporter": "python",
   "pygments_lexer": "ipython3",
   "version": "3.7.4"
  }
 },
 "nbformat": 4,
 "nbformat_minor": 4
}
